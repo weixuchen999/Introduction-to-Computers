{
  "nbformat": 4,
  "nbformat_minor": 0,
  "metadata": {
    "colab": {
      "name": "統計1A410650161陳威旭",
      "provenance": [],
      "collapsed_sections": [],
      "authorship_tag": "ABX9TyMTv8QGOPYnEd9j9gI4RUsn",
      "include_colab_link": true
    },
    "kernelspec": {
      "name": "python3",
      "display_name": "Python 3"
    },
    "language_info": {
      "name": "python"
    }
  },
  "cells": [
    {
      "cell_type": "markdown",
      "metadata": {
        "id": "view-in-github",
        "colab_type": "text"
      },
      "source": [
        "<a href=\"https://colab.research.google.com/github/weixuchen999/Introduction-to-Computers/blob/main/%E7%B5%B1%E8%A8%881A410650161%E9%99%B3%E5%A8%81%E6%97%AD.ipynb\" target=\"_parent\"><img src=\"https://colab.research.google.com/assets/colab-badge.svg\" alt=\"Open In Colab\"/></a>"
      ]
    },
    {
      "cell_type": "code",
      "execution_count": null,
      "metadata": {
        "colab": {
          "base_uri": "https://localhost:8080/"
        },
        "id": "JqSGvMQHhqiw",
        "outputId": "ba0e77f1-fb0b-443d-cf73-3ecf73302a23"
      },
      "outputs": [
        {
          "output_type": "stream",
          "name": "stdout",
          "text": [
            "15\n"
          ]
        }
      ],
      "source": [
        "x=10\n",
        "x+=5\n",
        "print(x)\n",
        "#指派運算子"
      ]
    },
    {
      "cell_type": "code",
      "source": [
        "x=10\n",
        "x%=5\n",
        "print(x)\n",
        "#指派運算子\n"
      ],
      "metadata": {
        "colab": {
          "base_uri": "https://localhost:8080/"
        },
        "id": "0A5COzubiG1T",
        "outputId": "ad088cc3-ddea-46f7-e9f0-73e4604cfea5"
      },
      "execution_count": null,
      "outputs": [
        {
          "output_type": "stream",
          "name": "stdout",
          "text": [
            "0\n"
          ]
        }
      ]
    },
    {
      "cell_type": "code",
      "source": [
        "#下列會回傳False\n",
        "#邏輯運算子\n",
        "x=(10>8)and(10>20)\n",
        "print(x)\n",
        "x=(10<8)and(10<20)\n",
        "print(x)\n",
        "x=(10<8)and(10>20)\n",
        "print(x)"
      ],
      "metadata": {
        "colab": {
          "base_uri": "https://localhost:8080/"
        },
        "id": "Dy9San9sY3sS",
        "outputId": "001260e2-7044-4298-bfcc-f567ffa8f3b3"
      },
      "execution_count": null,
      "outputs": [
        {
          "output_type": "stream",
          "name": "stdout",
          "text": [
            "False\n",
            "False\n",
            "False\n"
          ]
        }
      ]
    },
    {
      "cell_type": "code",
      "source": [
        "x=10\n",
        "x//=5\n",
        "print(x)\n",
        "#指派運算子"
      ],
      "metadata": {
        "colab": {
          "base_uri": "https://localhost:8080/"
        },
        "id": "WiUcB5PEiSbq",
        "outputId": "f4c19d83-631e-4c46-862b-5d15b271444f"
      },
      "execution_count": null,
      "outputs": [
        {
          "output_type": "stream",
          "name": "stdout",
          "text": [
            "2\n"
          ]
        }
      ]
    },
    {
      "cell_type": "code",
      "source": [
        "#下列會回傳true\n",
        "x=10>8\n",
        "print(x)\n",
        "x=10>=10\n",
        "print(x)\n",
        "x=10!=20\n",
        "print(x)\n",
        "#關係運算子\n",
        "\n"
      ],
      "metadata": {
        "colab": {
          "base_uri": "https://localhost:8080/"
        },
        "id": "XajSdFyCjVa0",
        "outputId": "60c40809-a994-40bc-c6e2-44f6987e7b05"
      },
      "execution_count": null,
      "outputs": [
        {
          "output_type": "stream",
          "name": "stdout",
          "text": [
            "True\n",
            "True\n",
            "True\n"
          ]
        }
      ]
    }
  ]
}