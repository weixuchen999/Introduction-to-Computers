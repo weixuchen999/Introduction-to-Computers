{
  "nbformat": 4,
  "nbformat_minor": 0,
  "metadata": {
    "colab": {
      "name": "0323.ipynb",
      "provenance": [],
      "authorship_tag": "ABX9TyNz0I+X7pWwcL0Bf7QioQf+",
      "include_colab_link": true
    },
    "kernelspec": {
      "name": "python3",
      "display_name": "Python 3"
    },
    "language_info": {
      "name": "python"
    }
  },
  "cells": [
    {
      "cell_type": "markdown",
      "metadata": {
        "id": "view-in-github",
        "colab_type": "text"
      },
      "source": [
        "<a href=\"https://colab.research.google.com/github/weixuchen999/Introduction-to-Computers/blob/main/0323.ipynb\" target=\"_parent\"><img src=\"https://colab.research.google.com/assets/colab-badge.svg\" alt=\"Open In Colab\"/></a>"
      ]
    },
    {
      "cell_type": "code",
      "execution_count": 2,
      "metadata": {
        "colab": {
          "base_uri": "https://localhost:8080/"
        },
        "id": "JPVLAH0fAGaT",
        "outputId": "3e429808-6a91-4c59-dd97-e30b123bbab3"
      },
      "outputs": [
        {
          "output_type": "stream",
          "name": "stdout",
          "text": [
            "123\n"
          ]
        }
      ],
      "source": [
        "print(\"123\")"
      ]
    },
    {
      "cell_type": "code",
      "source": [
        "15+8"
      ],
      "metadata": {
        "colab": {
          "base_uri": "https://localhost:8080/"
        },
        "id": "c345aOinCvF6",
        "outputId": "407fdee3-1374-47a9-cb57-aa8e5aac99f9"
      },
      "execution_count": 3,
      "outputs": [
        {
          "output_type": "execute_result",
          "data": {
            "text/plain": [
              "23"
            ]
          },
          "metadata": {},
          "execution_count": 3
        }
      ]
    },
    {
      "cell_type": "code",
      "source": [
        "15-8"
      ],
      "metadata": {
        "colab": {
          "base_uri": "https://localhost:8080/"
        },
        "id": "JLVeHSIQCzvO",
        "outputId": "79686d02-3f1e-4a5a-91d7-489be2583d30"
      },
      "execution_count": 4,
      "outputs": [
        {
          "output_type": "execute_result",
          "data": {
            "text/plain": [
              "7"
            ]
          },
          "metadata": {},
          "execution_count": 4
        }
      ]
    },
    {
      "cell_type": "code",
      "source": [
        "15*8"
      ],
      "metadata": {
        "colab": {
          "base_uri": "https://localhost:8080/"
        },
        "id": "mRmlIhUbC1iF",
        "outputId": "9e5db273-cc8a-4d56-c972-9b155f50f166"
      },
      "execution_count": 5,
      "outputs": [
        {
          "output_type": "execute_result",
          "data": {
            "text/plain": [
              "120"
            ]
          },
          "metadata": {},
          "execution_count": 5
        }
      ]
    },
    {
      "cell_type": "code",
      "source": [
        "15/2"
      ],
      "metadata": {
        "colab": {
          "base_uri": "https://localhost:8080/"
        },
        "id": "ZaYya0aGC5b8",
        "outputId": "1beb2a30-a134-4e5a-b46d-2e095aaad04a"
      },
      "execution_count": 6,
      "outputs": [
        {
          "output_type": "execute_result",
          "data": {
            "text/plain": [
              "7.5"
            ]
          },
          "metadata": {},
          "execution_count": 6
        }
      ]
    },
    {
      "cell_type": "code",
      "source": [
        "15%8"
      ],
      "metadata": {
        "colab": {
          "base_uri": "https://localhost:8080/"
        },
        "id": "_Mn9D_uUC9uz",
        "outputId": "dd213507-6549-4fc0-a907-12839d79b303"
      },
      "execution_count": 7,
      "outputs": [
        {
          "output_type": "execute_result",
          "data": {
            "text/plain": [
              "7"
            ]
          },
          "metadata": {},
          "execution_count": 7
        }
      ]
    },
    {
      "cell_type": "code",
      "source": [
        "15//8"
      ],
      "metadata": {
        "colab": {
          "base_uri": "https://localhost:8080/"
        },
        "id": "GG89GNn6DJfN",
        "outputId": "9c6d81b3-9d1b-42e4-9fa8-882c4f8f4558"
      },
      "execution_count": 8,
      "outputs": [
        {
          "output_type": "execute_result",
          "data": {
            "text/plain": [
              "1"
            ]
          },
          "metadata": {},
          "execution_count": 8
        }
      ]
    },
    {
      "cell_type": "code",
      "source": [
        "8**3"
      ],
      "metadata": {
        "colab": {
          "base_uri": "https://localhost:8080/"
        },
        "id": "2Hzdge0EDOKh",
        "outputId": "475e556b-c58b-4f2a-e424-ec69e31ad251"
      },
      "execution_count": 9,
      "outputs": [
        {
          "output_type": "execute_result",
          "data": {
            "text/plain": [
              "512"
            ]
          },
          "metadata": {},
          "execution_count": 9
        }
      ]
    },
    {
      "cell_type": "code",
      "source": [
        "上底=int(input(\"請輸入梯形上底長度:\"))\n",
        "下底=int(input(\"請輸入梯形下底長度:\"))\n",
        "高=int(input(\"請輸入梯形高長度:\"))\n",
        "面積=(上底+下底)*高/2\n",
        "print(\"上底長度為:\",上底,\",下底長度為:\",下底,\",高長度為:\",高,\",面積為:\",面積,sep=\"\")\n"
      ],
      "metadata": {
        "colab": {
          "base_uri": "https://localhost:8080/"
        },
        "id": "kXduEa81DRuY",
        "outputId": "f9131cd5-97b6-4ebf-e73b-5812c7f737a9"
      },
      "execution_count": 10,
      "outputs": [
        {
          "output_type": "stream",
          "name": "stdout",
          "text": [
            "請輸入梯形上底長度:5\n",
            "請輸入梯形下底長度:5\n",
            "請輸入梯形高長度:5\n",
            "上底長度為:5,下底長度為:5,高長度為:5,面積為:25.0\n"
          ]
        }
      ]
    },
    {
      "cell_type": "code",
      "source": [
        "print(\"上底長度為:%d,下底長度為:%d,高長度為%d,面積為%d\"%(上底,下底,高,面積))"
      ],
      "metadata": {
        "colab": {
          "base_uri": "https://localhost:8080/"
        },
        "id": "RAGopjmBGONG",
        "outputId": "353d8b2c-3d18-4c45-8be6-1eb51b7cbc85"
      },
      "execution_count": 14,
      "outputs": [
        {
          "output_type": "stream",
          "name": "stdout",
          "text": [
            "上底長度為:5,下底長度為:5,高長度為5,面積為25\n"
          ]
        }
      ]
    },
    {
      "cell_type": "code",
      "source": [
        "print(\"上底長度為:%d,下底長度為:%d,高長度為:%d,面積為:%0.1f\"%(上底,下底,高,面積))"
      ],
      "metadata": {
        "colab": {
          "base_uri": "https://localhost:8080/"
        },
        "id": "JqTRVEUNHU6J",
        "outputId": "8aee885b-ebd9-4c29-e929-80a375192c49"
      },
      "execution_count": 16,
      "outputs": [
        {
          "output_type": "stream",
          "name": "stdout",
          "text": [
            "上底長度為:5,下底長度為:5,高長度為:5,面積為:25.0\n"
          ]
        }
      ]
    },
    {
      "cell_type": "code",
      "source": [
        "a=1.1\n",
        "b=2.02\n",
        "c=3.03\n",
        "print(\"a=%0.1f,b=%0.2f,c=%0.3f\"%(a,b,c))"
      ],
      "metadata": {
        "colab": {
          "base_uri": "https://localhost:8080/"
        },
        "id": "kcKlM7ZAIZiC",
        "outputId": "261436c7-ccb9-400d-a865-02e820184e95"
      },
      "execution_count": 17,
      "outputs": [
        {
          "output_type": "stream",
          "name": "stdout",
          "text": [
            "a=1.1,b=2.02,c=3.030\n"
          ]
        }
      ]
    },
    {
      "cell_type": "code",
      "source": [
        "身高=int(input(\"請輸入您的身高(cm)\"))\n",
        "體重=int(input(\"請輸入您的體重(kg)\"))\n",
        "BMI=(體重/(身高/100)**2)\n",
        "print(\"您的身高為:%d 公分,您的體重為:%d公斤,您的BMI指數為:%0.2f\"%(身高,體重,BMI))"
      ],
      "metadata": {
        "colab": {
          "base_uri": "https://localhost:8080/"
        },
        "id": "g0KshCq8I6io",
        "outputId": "0573d646-1a43-4d44-8af8-de9c6c49a85b"
      },
      "execution_count": 19,
      "outputs": [
        {
          "output_type": "stream",
          "name": "stdout",
          "text": [
            "請輸入您的身高(cm)167\n",
            "請輸入您的體重(kg)55\n",
            "您的身高為:167 公分,您的體重為:55公斤,您的BMI指數為:19.72\n"
          ]
        }
      ]
    },
    {
      "cell_type": "code",
      "source": [
        ""
      ],
      "metadata": {
        "id": "8fYFW2tJCbY2"
      },
      "execution_count": null,
      "outputs": []
    }
  ]
}