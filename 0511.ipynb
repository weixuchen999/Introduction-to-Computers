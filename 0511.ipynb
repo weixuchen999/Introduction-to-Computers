{
  "nbformat": 4,
  "nbformat_minor": 0,
  "metadata": {
    "colab": {
      "name": "0511.ipynb",
      "provenance": [],
      "authorship_tag": "ABX9TyPrPnAEIqb2G6KW6ofQtZOy",
      "include_colab_link": true
    },
    "kernelspec": {
      "name": "python3",
      "display_name": "Python 3"
    },
    "language_info": {
      "name": "python"
    }
  },
  "cells": [
    {
      "cell_type": "markdown",
      "metadata": {
        "id": "view-in-github",
        "colab_type": "text"
      },
      "source": [
        "<a href=\"https://colab.research.google.com/github/weixuchen999/Introduction-to-Computers/blob/main/0511.ipynb\" target=\"_parent\"><img src=\"https://colab.research.google.com/assets/colab-badge.svg\" alt=\"Open In Colab\"/></a>"
      ]
    },
    {
      "cell_type": "code",
      "execution_count": null,
      "metadata": {
        "colab": {
          "base_uri": "https://localhost:8080/"
        },
        "id": "uaZU8rSgirLE",
        "outputId": "cab689cd-6081-4ebf-a8f3-0338cab3066c"
      },
      "outputs": [
        {
          "output_type": "stream",
          "name": "stdout",
          "text": [
            "test\n"
          ]
        }
      ],
      "source": [
        "print(\"test\")"
      ]
    },
    {
      "cell_type": "code",
      "source": [
        "temp=float(input(\"請輸入你的體溫\"))\n",
        "if temp>=37.5:\n",
        "    print(\"體溫過高!\")\n",
        "elif temp>=37 and temp<37.4:\n",
        "    print(\"體溫略高!\")\n",
        "elif temp>=34 and temp<36.9:\n",
        "    print(\"體溫正常!\")\n",
        "else:\n",
        "    print(\"體溫異常，請重新量測!\")\n"
      ],
      "metadata": {
        "colab": {
          "base_uri": "https://localhost:8080/"
        },
        "id": "5O73_boWiza9",
        "outputId": "c05d3195-91b6-43c8-b18c-ef8673444698"
      },
      "execution_count": null,
      "outputs": [
        {
          "output_type": "stream",
          "name": "stdout",
          "text": [
            "請輸入你的體溫37.5\n",
            "體溫過高!\n"
          ]
        }
      ]
    },
    {
      "cell_type": "code",
      "source": [
        "money=int(input(\"請輸入購物金額:\"))\n",
        "if(money>=10000):\n",
        "    if(money>=100000):\n",
        "        print(\"八折\",money * 0.8,end = \"元\\n\")\n",
        "    elif(money>=50000):\n",
        "      print(\"八五折\" , money * 0.85,end = \"元\\n\")\n",
        "    elif(money>=30000):\n",
        "      print(\"九折\" , money * 0.9,end = \"元\\n\")\n",
        "    else:\n",
        "      print(\"九五折\" , money * 0.95,end = \"元\\n\")\n",
        "    \n",
        "\n",
        "else:\n",
        "      print(\"沒打折\",money ,end=\"元\\n\" )\n",
        "\n",
        "\n"
      ],
      "metadata": {
        "colab": {
          "base_uri": "https://localhost:8080/"
        },
        "id": "BoFNyjrLkO-G",
        "outputId": "ac59acef-7c20-4f58-e966-ca2932158149"
      },
      "execution_count": null,
      "outputs": [
        {
          "output_type": "stream",
          "name": "stdout",
          "text": [
            "請輸入購物金額:50000\n",
            "八五折 42500.0元\n"
          ]
        }
      ]
    },
    {
      "cell_type": "code",
      "source": [
        "成績=float(input(\"請輸入成績\"))\n",
        "if(成績>60):\n",
        "    if(成績>=90):\n",
        "        print(\"A\")\n",
        "    elif(成績<90and 成績>=80):\n",
        "        print(\"B\")\n",
        "    elif(成績<80and 成績>=70):\n",
        "        print(\"C\")\n",
        "    elif(成績<70and 成績>=60):\n",
        "        print(\"D\")\n",
        "else:\n",
        "  print(\"E\")\n"
      ],
      "metadata": {
        "id": "VjN2FaDlqgLg",
        "colab": {
          "base_uri": "https://localhost:8080/"
        },
        "outputId": "9eb444ec-897f-4160-ffa5-9239e18fcc6a"
      },
      "execution_count": 5,
      "outputs": [
        {
          "output_type": "stream",
          "name": "stdout",
          "text": [
            "請輸入成績70\n",
            "C\n"
          ]
        }
      ]
    },
    {
      "cell_type": "code",
      "source": [
        "month=int(input(\"請輸入月份:\"))\n",
        "if(month==3 or month==4 or month==5):\n",
        "  print(month,\"月是春天!\")\n",
        "elif(month==6 or month==7 or month==8):\n",
        "  print(month,\"月是夏天!\")\n",
        "elif(month==9 or month==10 or month==11):\n",
        "  print(month,\"月是秋天!\")\n",
        "elif(month==12 or month==1 or month==2):\n",
        "  print(month,\"月是冬天!\")\n",
        "else:\n",
        "  print(\"月份不在範圍內!\")"
      ],
      "metadata": {
        "colab": {
          "base_uri": "https://localhost:8080/"
        },
        "id": "2GeX0OQONKUG",
        "outputId": "59ff51a8-c2a2-419e-c99b-d284a4beaf64"
      },
      "execution_count": 7,
      "outputs": [
        {
          "output_type": "stream",
          "name": "stdout",
          "text": [
            "請輸入月份:13\n",
            "月份不在範圍內!\n"
          ]
        }
      ]
    },
    {
      "cell_type": "code",
      "source": [
        "money=int(input(\"請輸入今年收入淨額:\"))\n",
        "if(money>=300000):\n",
        " if(money>=2000000):\n",
        "   print(\"付稅金額:\",money*0.3,end=\"元\\n\")\n",
        " elif(money>=1000000):\n",
        "   print(\"付稅金額:\",money*0.21,end=\"元\\n\")\n",
        " elif(money>=600000):\n",
        "   print(\"付稅金額:\",money*0.13,end=\"元\\n\")\n",
        " elif(money>=300000):\n",
        "   print(\"付稅金額:\",money*0.06,end=\"元\\n\")\n",
        "else:\n",
        "  print(\"付稅金額:\",money*0,end=\"元\\n\")\n",
        " "
      ],
      "metadata": {
        "colab": {
          "base_uri": "https://localhost:8080/"
        },
        "id": "CZsRlAyQPAA0",
        "outputId": "ecdcc9b8-c4be-4992-e4c0-5206047567e4"
      },
      "execution_count": 9,
      "outputs": [
        {
          "output_type": "stream",
          "name": "stdout",
          "text": [
            "請輸入今年收入淨額:100000\n",
            "付稅金額: 0元\n"
          ]
        }
      ]
    }
  ]
}